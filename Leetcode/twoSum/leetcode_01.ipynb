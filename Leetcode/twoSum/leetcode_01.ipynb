{
 "cells": [
  {
   "cell_type": "markdown",
   "metadata": {},
   "source": [
    "给定一个整数数组 nums 和一个目标值 target，请你在该数组中找出和为目标值的那 两个 整数，并返回他们的数组下标。\n",
    "\n",
    "你可以假设每种输入只会对应一个答案。但是，你不能重复利用这个数组中同样的元素。\n",
    "\n",
    "示例:\n",
    "\n",
    "给定 nums = [2, 7, 11, 15], target = 9\n",
    "\n",
    "因为 nums[0] + nums[1] = 2 + 7 = 9\n",
    "所以返回 [0, 1]\n",
    "\n",
    "#### 来源：力扣（LeetCode）\n",
    "#### 链接：https://leetcode-cn.com/problems/two-sum"
   ]
  },
  {
   "cell_type": "code",
   "execution_count": 1,
   "metadata": {},
   "outputs": [],
   "source": [
    "nums = [3,4,5,6,7,67,88,9,99,4,56]\n",
    "target = 97"
   ]
  },
  {
   "cell_type": "code",
   "execution_count": 2,
   "metadata": {},
   "outputs": [
    {
     "name": "stdout",
     "output_type": "stream",
     "text": [
      "669 ns ± 9.17 ns per loop (mean ± std. dev. of 7 runs, 1000000 loops each)\n",
      "5.81 µs ± 113 ns per loop (mean ± std. dev. of 7 runs, 100000 loops each)\n"
     ]
    }
   ],
   "source": [
    "class Solution:\n",
    "    def twoSum(self, nums, target):\n",
    "        for a in nums:\n",
    "            for b in nums:\n",
    "                if a != b and target==a+b:\n",
    "                    return [nums.index(a), nums.index(b)]\n",
    "\n",
    "if __name__ == '__main__':\n",
    "    s = Solution()\n",
    "    %timeit s.twoSum([2,7,11,15], 9)\n",
    "    %timeit s.twoSum(nums, target)"
   ]
  },
  {
   "cell_type": "markdown",
   "metadata": {},
   "source": [
    "### 开始的时候，字典里并没有值，有没有可能存在由于循环到某一个值的时候，由于字典里还没有对应的值而使结果缺失？\n",
    "#### 是有的，但是总体上并不会缺失结果。任意一对数a,b，假设他们就是结果，如果在循环到 a 时，没有输出正确结果，那么必然会进入字典，再循环到 b 时，必然会输出正确结果。"
   ]
  },
  {
   "cell_type": "code",
   "execution_count": 3,
   "metadata": {},
   "outputs": [
    {
     "name": "stdout",
     "output_type": "stream",
     "text": [
      "[0, 1]\n",
      "718 ns ± 10.6 ns per loop (mean ± std. dev. of 7 runs, 1000000 loops each)\n",
      "1.42 µs ± 13.9 ns per loop (mean ± std. dev. of 7 runs, 1000000 loops each)\n"
     ]
    }
   ],
   "source": [
    "class Solution:\n",
    "    def twoSum(self, nums, target):\n",
    "        keys = {}\n",
    "        # index 和 value 都遍历出来，如果在字典里有目标值，则输出，没有，则添加到字典中\n",
    "        for i, v in enumerate(nums):\n",
    "            if target-v in keys:\n",
    "                return [keys[target-v], i]\n",
    "            else:\n",
    "                keys[v] = i\n",
    "\n",
    "if __name__ == \"__main__\":\n",
    "    s = Solution()\n",
    "    print(s.twoSum([2,7,11,15], 9))\n",
    "    %timeit s.twoSum([2,7,11,15], 9)\n",
    "    %timeit s.twoSum(nums, target)"
   ]
  },
  {
   "cell_type": "markdown",
   "metadata": {},
   "source": [
    "改进方向：\n",
    " - 传入列表至少要含有两个数\n",
    " - 存在多组正确答案情况"
   ]
  },
  {
   "cell_type": "code",
   "execution_count": 4,
   "metadata": {},
   "outputs": [
    {
     "name": "stdout",
     "output_type": "stream",
     "text": [
      "[[0, 1]]\n",
      "899 ns ± 14.7 ns per loop (mean ± std. dev. of 7 runs, 1000000 loops each)\n",
      "1.63 µs ± 16.7 ns per loop (mean ± std. dev. of 7 runs, 1000000 loops each)\n"
     ]
    }
   ],
   "source": [
    "class Solution(object):\n",
    "    def twoSum(self, nums, target):\n",
    "        \"\"\"\n",
    "        :type nums: List[int]\n",
    "        :type target: int\n",
    "        :rtype: List[int]\n",
    "        \"\"\"\n",
    "        if len(nums) <= 1:\n",
    "            return False\n",
    "        keys = {}\n",
    "        result_li = []\n",
    "        for i, v in enumerate(nums):\n",
    "            if target-v in keys:\n",
    "                result_li.append([keys[target-v],i])\n",
    "                return result_li\n",
    "            else:\n",
    "                keys[v] = i\n",
    "\n",
    "if __name__ == '__main__':\n",
    "    s = Solution()\n",
    "    print(s.twoSum([2,7,11,15], 9))\n",
    "    %timeit s.twoSum([2,7,11,15],9)\n",
    "    %timeit s.twoSum(nums, target)"
   ]
  },
  {
   "cell_type": "code",
   "execution_count": null,
   "metadata": {},
   "outputs": [],
   "source": []
  }
 ],
 "metadata": {
  "kernelspec": {
   "display_name": "Python 3",
   "language": "python",
   "name": "python3"
  },
  "language_info": {
   "codemirror_mode": {
    "name": "ipython",
    "version": 3
   },
   "file_extension": ".py",
   "mimetype": "text/x-python",
   "name": "python",
   "nbconvert_exporter": "python",
   "pygments_lexer": "ipython3",
   "version": "3.6.2"
  }
 },
 "nbformat": 4,
 "nbformat_minor": 2
}
